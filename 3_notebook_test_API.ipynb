{
 "cells": [
  {
   "cell_type": "code",
   "execution_count": 1,
   "id": "f80d4a05",
   "metadata": {},
   "outputs": [],
   "source": [
    "import requests\n",
    "import json"
   ]
  },
  {
   "cell_type": "code",
   "execution_count": 2,
   "id": "86efde9d",
   "metadata": {},
   "outputs": [],
   "source": [
    "url = \"https://cred-app-oc-4ccc09dc49fa.herokuapp.com/process_customer\""
   ]
  },
  {
   "cell_type": "code",
   "execution_count": 3,
   "id": "064fc616",
   "metadata": {},
   "outputs": [
    {
     "name": "stdout",
     "output_type": "stream",
     "text": [
      "Response from Flask API:\n",
      "{'new_customer_id': 268669, 'y_pred': 1, 'y_prob': 0.2062000036239624}\n"
     ]
    }
   ],
   "source": [
    "# load test data\n",
    "with open('./test_data/client10.json') as json_file:\n",
    "    data = json.load(json_file)\n",
    "\n",
    "\n",
    "response = requests.post(url, headers={\"Content-Type\": \"application/json\"},json=data)\n",
    "\n",
    "# Print response\n",
    "if response.status_code == 200:\n",
    "    print(\"Response from Flask API:\")\n",
    "    print(response.json())\n",
    "else:\n",
    "    print(f\"Error: {response.status_code}\")\n",
    "    print(response.text)"
   ]
  },
  {
   "cell_type": "code",
   "execution_count": 4,
   "id": "c3caa120",
   "metadata": {},
   "outputs": [
    {
     "name": "stdout",
     "output_type": "stream",
     "text": [
      "Response from Flask API:\n",
      "{'new_customer_id': 275894, 'y_pred': 0, 'y_prob': 0.14740000665187836}\n"
     ]
    }
   ],
   "source": [
    "# load test data\n",
    "with open('./test_data/client7.json') as json_file:\n",
    "    data = json.load(json_file)\n",
    "\n",
    "\n",
    "response = requests.post(url, headers={\"Content-Type\": \"application/json\"},json=data)\n",
    "\n",
    "# Print response\n",
    "if response.status_code == 200:\n",
    "    print(\"Response from Flask API:\")\n",
    "    print(response.json())\n",
    "else:\n",
    "    print(f\"Error: {response.status_code}\")\n",
    "    print(response.text)"
   ]
  },
  {
   "cell_type": "code",
   "execution_count": null,
   "id": "ee405e12",
   "metadata": {},
   "outputs": [],
   "source": []
  },
  {
   "cell_type": "code",
   "execution_count": null,
   "id": "191a30c7",
   "metadata": {},
   "outputs": [],
   "source": []
  },
  {
   "cell_type": "code",
   "execution_count": null,
   "id": "8232e02a",
   "metadata": {},
   "outputs": [],
   "source": []
  }
 ],
 "metadata": {
  "kernelspec": {
   "display_name": "Python 3 (ipykernel)",
   "language": "python",
   "name": "python3"
  },
  "language_info": {
   "codemirror_mode": {
    "name": "ipython",
    "version": 3
   },
   "file_extension": ".py",
   "mimetype": "text/x-python",
   "name": "python",
   "nbconvert_exporter": "python",
   "pygments_lexer": "ipython3",
   "version": "3.11.5"
  }
 },
 "nbformat": 4,
 "nbformat_minor": 5
}
